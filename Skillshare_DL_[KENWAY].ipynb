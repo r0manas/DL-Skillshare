{
  "nbformat": 4,
  "nbformat_minor": 2,
  "metadata": {
    "colab": {
      "name": "DL-Skillshare [KENWAY].ipynb",
      "provenance": [],
      "collapsed_sections": [],
      "toc_visible": true,
      "include_colab_link": true
    },
    "kernelspec": {
      "name": "python3",
      "display_name": "Python 3"
    },
    "accelerator": "GPU"
  },
  "cells": [
    {
      "cell_type": "markdown",
      "source": [
        "<a href=\"https://colab.research.google.com/github/r0manas/DL-Skillshare/blob/master/Skillshare_DL_%5BKENWAY%5D.ipynb\" target=\"_parent\"><img src=\"https://colab.research.google.com/assets/colab-badge.svg\" alt=\"Open In Colab\"/></a>"
      ],
      "metadata": {
        "id": "view-in-github",
        "colab_type": "text"
      }
    },
    {
      "cell_type": "code",
      "execution_count": null,
      "source": [
        "#@title  { vertical-output: true, form-width: \"350px\" }\r\n",
        "#@markdown <h3>⬅ Mount GDrive\r\n",
        "from google.colab import drive\r\n",
        "drive.mount('/content/drive')"
      ],
      "outputs": [],
      "metadata": {
        "id": "tTVkURopsAxH",
        "colab_type": "code",
        "cellView": "form",
        "colab": {}
      }
    },
    {
      "cell_type": "code",
      "execution_count": null,
      "source": [
        "#@title   <strong>Requirenments</strong> { vertical-output: true }\r\n",
        "import random, string, urllib.request, json, getpass, os, IPython, uuid\r\n",
        "import ipywidgets as widgets\r\n",
        "\r\n",
        "from IPython.display import HTML, clear_output\r\n",
        "\r\n",
        "loadingBtn = widgets.Button(description = \"Installing\",\r\n",
        "                          disabled = True,\r\n",
        "                          button_style = 'warning', # 'success', 'info', 'warning', 'danger' or '' \r\n",
        "                          tooltip = \"Installing\",\r\n",
        "                          icon = 'check')\r\n",
        "display(loadingBtn)\r\n",
        "\r\n",
        "if not os.path.exists(\"/opt/python3.7\"):\r\n",
        "  get_ipython().system_raw(\"rm -rf /content/sample_data/ && sudo apt update && sudo apt install software-properties-common\")\r\n",
        "  get_ipython().system_raw(\"sudo add-apt-repository ppa:deadsnakes/ppa\")\r\n",
        "  get_ipython().system_raw(\"sudo apt install python3.7\")\r\n",
        "  get_ipython().system_raw(\"sudo apt install python3-pip\")\r\n",
        "  get_ipython().system_raw(\"python3.7 -m pip install --upgrade pip setuptools wheel\")\r\n",
        "  get_ipython().system_raw(\"git clone https://github.com/r0manas/DL-Skillshare.git /root/.DL-Skillshare\")\r\n",
        "  get_ipython().system_raw(\"rm -r /root/.DL-Skillshare/Skillshare_DL_[KENWAY].ipynb\")\r\n",
        "  clear_output()\r\n",
        "\r\n",
        "try:\r\n",
        "  get_ipython().system_raw(\"python3.7 -m pip -q install -r /root/.DL-Skillshare/requirements.txt\")\r\n",
        "  display(HTML(\"<center><h2 style=\\\"font-family:Trebuchet MS;color:#4f8bd6;\\\">Successfully Configured!</h2><br></center>\"))\r\n",
        "  \r\n",
        "except:\r\n",
        "  display(HTML(\"<center><h2 style=\\\"font-family:Trebuchet MS;color:#ff0000;\\\">Error Occured, Rerun the Cell!!</h2><br></center>\"))"
      ],
      "outputs": [],
      "metadata": {
        "id": "xunEYHutBEv_",
        "colab_type": "code",
        "cellView": "form",
        "colab": {}
      }
    },
    {
      "cell_type": "code",
      "execution_count": null,
      "source": [
        "#@markdown <h3>⬅ Download Course</h3>\r\n",
        "Course_Link = \"\" #@param {type:\"string\"}\r\n",
        "!python3.7 /root/.DL-Skillshare/dl.py \"$Course_Link\""
      ],
      "outputs": [],
      "metadata": {
        "id": "GMcXn3WTIYfo",
        "colab_type": "code",
        "cellView": "form",
        "colab": {}
      }
    },
    {
      "cell_type": "code",
      "execution_count": null,
      "source": [
        "#@title  { vertical-output: true, display-mode: \"form\" }\r\n",
        "#@markdown <h3>⬅ Copy to GDrive \r\n",
        "From = \"/content/Skillshare/\" #@param {type:\"string\"}\r\n",
        "To = \"/content/drive/Shared drives/babiato/\" #@param {type:\"string\"}\r\n",
        "!mv \"$From\" \"$To\"\r\n",
        "\r\n"
      ],
      "outputs": [],
      "metadata": {
        "id": "W4DvOJaqsGaj",
        "colab_type": "code",
        "cellView": "form",
        "colab": {}
      }
    }
  ]
}
